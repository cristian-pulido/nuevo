{
 "cells": [
  {
   "cell_type": "markdown",
   "metadata": {
    "slideshow": {
     "slide_type": "slide"
    }
   },
   "source": [
    "<center>\n",
    "<h1>Mejor Ubicación Hospital</h1>\n",
    "    <h3>Manuel Arias  &nbsp;  &nbsp; Lina Prado</h3>\n",
    "    <h3>Jeisson Prieto  &nbsp;  &nbsp; Cristian Pulido </h3>\n",
    "    <h3>Julián Torres</h3>\n",
    "</center>\n"
   ]
  },
  {
   "cell_type": "code",
   "execution_count": 2,
   "metadata": {
    "slideshow": {
     "slide_type": "fragment"
    }
   },
   "outputs": [
    {
     "data": {
      "text/html": [
       "<script>\n",
       "code_show=true; \n",
       "function code_toggle() {\n",
       " if (code_show){\n",
       " $('div.input').hide();\n",
       " } else {\n",
       " $('div.input').show();\n",
       " }\n",
       " code_show = !code_show\n",
       "} \n",
       "$( document ).ready(code_toggle);\n",
       "</script>\n",
       "<form action=\"javascript:code_toggle()\"><input type=\"submit\" value=\"Click here to toggle on/off the raw code.\"></form>"
      ],
      "text/plain": [
       "<IPython.core.display.HTML object>"
      ]
     },
     "execution_count": 2,
     "metadata": {},
     "output_type": "execute_result"
    }
   ],
   "source": [
    "from IPython.display import HTML\n",
    "\n",
    "HTML('''<script>\n",
    "code_show=true; \n",
    "function code_toggle() {\n",
    " if (code_show){\n",
    " $('div.input').hide();\n",
    " } else {\n",
    " $('div.input').show();\n",
    " }\n",
    " code_show = !code_show\n",
    "} \n",
    "$( document ).ready(code_toggle);\n",
    "</script>\n",
    "<form action=\"javascript:code_toggle()\"><input type=\"submit\" value=\"Click here to toggle on/off the raw code.\"></form>''')"
   ]
  },
  {
   "cell_type": "code",
   "execution_count": 5,
   "metadata": {
    "slideshow": {
     "slide_type": "skip"
    }
   },
   "outputs": [
    {
     "ename": "ModuleNotFoundError",
     "evalue": "No module named 'numpy'",
     "output_type": "error",
     "traceback": [
      "\u001b[0;31m---------------------------------------------------------------------------\u001b[0m",
      "\u001b[0;31mModuleNotFoundError\u001b[0m                       Traceback (most recent call last)",
      "\u001b[0;32m<ipython-input-5-2c21c7685a5e>\u001b[0m in \u001b[0;36m<module>\u001b[0;34m\u001b[0m\n\u001b[0;32m----> 1\u001b[0;31m \u001b[0;32mimport\u001b[0m \u001b[0mnumpy\u001b[0m \u001b[0;32mas\u001b[0m \u001b[0mnp\u001b[0m\u001b[0;34m\u001b[0m\u001b[0;34m\u001b[0m\u001b[0m\n\u001b[0m\u001b[1;32m      2\u001b[0m \u001b[0;32mimport\u001b[0m \u001b[0mscipy\u001b[0m\u001b[0;34m\u001b[0m\u001b[0;34m\u001b[0m\u001b[0m\n\u001b[1;32m      3\u001b[0m \u001b[0;32mfrom\u001b[0m \u001b[0msklearn\u001b[0m\u001b[0;34m.\u001b[0m\u001b[0mmixture\u001b[0m \u001b[0;32mimport\u001b[0m \u001b[0mGaussianMixture\u001b[0m\u001b[0;34m\u001b[0m\u001b[0;34m\u001b[0m\u001b[0m\n\u001b[1;32m      4\u001b[0m \u001b[0;32mimport\u001b[0m \u001b[0mmatplotlib\u001b[0m\u001b[0;34m.\u001b[0m\u001b[0mpyplot\u001b[0m \u001b[0;32mas\u001b[0m \u001b[0mplt\u001b[0m\u001b[0;34m\u001b[0m\u001b[0;34m\u001b[0m\u001b[0m\n\u001b[1;32m      5\u001b[0m \u001b[0;32mimport\u001b[0m \u001b[0mseaborn\u001b[0m \u001b[0;32mas\u001b[0m \u001b[0msns\u001b[0m\u001b[0;34m\u001b[0m\u001b[0;34m\u001b[0m\u001b[0m\n",
      "\u001b[0;31mModuleNotFoundError\u001b[0m: No module named 'numpy'"
     ]
    }
   ],
   "source": [
    "import numpy as np\n",
    "import scipy\n",
    "from sklearn.mixture import GaussianMixture\n",
    "import matplotlib.pyplot as plt\n",
    "import seaborn as sns\n",
    "import pandas as pd\n",
    "from scipy.stats import multivariate_normal\n",
    "import matplotlib.colors as mcolors\n",
    "from scipy import integrate\n",
    "from scipy.optimize import minimize\n",
    "import plotly.graph_objs as go\n",
    "from plotly.offline import download_plotlyjs, init_notebook_mode, plot, iplot\n",
    "import plotly.figure_factory as ff\n",
    "init_notebook_mode(connected=True)\n",
    "from scipy.optimize import curve_fit\n",
    "from plotly import tools"
   ]
  },
  {
   "cell_type": "code",
   "execution_count": null,
   "metadata": {
    "slideshow": {
     "slide_type": "skip"
    }
   },
   "outputs": [],
   "source": [
    "# np.inf distancia del maximo\n",
    "def norma(x,orden=2):\n",
    "    return np.linalg.norm(x,axis=1,ord=orden)"
   ]
  },
  {
   "cell_type": "markdown",
   "metadata": {
    "slideshow": {
     "slide_type": "slide"
    }
   },
   "source": [
    "<center>\n",
    "<h2>Registros Distancia vs. Tiempo</h2>  \n",
    "\n",
    "<table style=\"border-collapse:collapse;border-spacing:0\" class=\"tg\"><tr><th style=\"font-family:Arial, sans-serif;font-size:14px;font-weight:bold;padding:10px 5px;border-style:solid;border-width:1px;overflow:hidden;word-break:normal;border-color:black;text-align:center\">Distancia (Kms)</th><th style=\"font-family:Arial, sans-serif;font-size:14px;font-weight:bold;padding:10px 5px;border-style:solid;border-width:1px;overflow:hidden;word-break:normal;border-color:black;text-align:center\">Tiempo</th><th style=\"font-family:Arial, sans-serif;font-size:14px;font-weight:bold;padding:10px 5px;border-style:solid;border-width:1px;overflow:hidden;word-break:normal;border-color:black;text-align:center;vertical-align:top\">-<br></th><th style=\"font-family:Arial, sans-serif;font-size:14px;font-weight:bold;padding:10px 5px;border-style:solid;border-width:1px;overflow:hidden;word-break:normal;border-color:black;text-align:center;vertical-align:top\">Distancia (Kms)</th><th style=\"font-family:Arial, sans-serif;font-size:14px;font-weight:bold;padding:10px 5px;border-style:solid;border-width:1px;overflow:hidden;word-break:normal;border-color:black;text-align:center;vertical-align:top\">Tiempo</th></tr><tr><td style=\"font-family:Arial, sans-serif;font-size:14px;padding:10px 5px;border-style:solid;border-width:1px;overflow:hidden;word-break:normal;border-color:black;text-align:center\">1.22</td><td style=\"font-family:Arial, sans-serif;font-size:14px;padding:10px 5px;border-style:solid;border-width:1px;overflow:hidden;word-break:normal;border-color:black;text-align:center\">2.62</td><td style=\"font-family:Arial, sans-serif;font-size:14px;padding:10px 5px;border-style:solid;border-width:1px;overflow:hidden;word-break:normal;border-color:black;text-align:center;vertical-align:top\">|</td><td style=\"font-family:Arial, sans-serif;font-size:14px;padding:10px 5px;border-style:solid;border-width:1px;overflow:hidden;word-break:normal;border-color:black;text-align:center;vertical-align:top\">3.19</td><td style=\"font-family:Arial, sans-serif;font-size:14px;padding:10px 5px;border-style:solid;border-width:1px;overflow:hidden;word-break:normal;border-color:black;text-align:center;vertical-align:top\">4.26</td></tr><tr><td style=\"font-family:Arial, sans-serif;font-size:14px;padding:10px 5px;border-style:solid;border-width:1px;overflow:hidden;word-break:normal;border-color:black;text-align:center\">3.48</td><td style=\"font-family:Arial, sans-serif;font-size:14px;padding:10px 5px;border-style:solid;border-width:1px;overflow:hidden;word-break:normal;border-color:black;text-align:center\">8.35</td><td style=\"font-family:Arial, sans-serif;font-size:14px;padding:10px 5px;border-style:solid;border-width:1px;overflow:hidden;word-break:normal;border-color:black;text-align:center;vertical-align:top\">|<br></td><td style=\"font-family:Arial, sans-serif;font-size:14px;padding:10px 5px;border-style:solid;border-width:1px;overflow:hidden;word-break:normal;border-color:black;text-align:center;vertical-align:top\">4.11</td><td style=\"font-family:Arial, sans-serif;font-size:14px;padding:10px 5px;border-style:solid;border-width:1px;overflow:hidden;word-break:normal;border-color:black;text-align:center;vertical-align:top\">7.00</td></tr><tr><td style=\"font-family:Arial, sans-serif;font-size:14px;padding:10px 5px;border-style:solid;border-width:1px;overflow:hidden;word-break:normal;border-color:black;text-align:center\">5.10</td><td style=\"font-family:Arial, sans-serif;font-size:14px;padding:10px 5px;border-style:solid;border-width:1px;overflow:hidden;word-break:normal;border-color:black;text-align:center\">6.52</td><td style=\"font-family:Arial, sans-serif;font-size:14px;padding:10px 5px;border-style:solid;border-width:1px;overflow:hidden;word-break:normal;border-color:black;text-align:center;vertical-align:top\">|</td><td style=\"font-family:Arial, sans-serif;font-size:14px;padding:10px 5px;border-style:solid;border-width:1px;overflow:hidden;word-break:normal;border-color:black;text-align:center;vertical-align:top\">3.09</td><td style=\"font-family:Arial, sans-serif;font-size:14px;padding:10px 5px;border-style:solid;border-width:1px;overflow:hidden;word-break:normal;border-color:black;text-align:center;vertical-align:top\">5.49</td></tr><tr><td style=\"font-family:Arial, sans-serif;font-size:14px;padding:10px 5px;border-style:solid;border-width:1px;overflow:hidden;word-break:normal;border-color:black;text-align:center\">3.39</td><td style=\"font-family:Arial, sans-serif;font-size:14px;padding:10px 5px;border-style:solid;border-width:1px;overflow:hidden;word-break:normal;border-color:black;text-align:center\">3.51</td><td style=\"font-family:Arial, sans-serif;font-size:14px;padding:10px 5px;border-style:solid;border-width:1px;overflow:hidden;word-break:normal;border-color:black;text-align:center;vertical-align:top\">|<br></td><td style=\"font-family:Arial, sans-serif;font-size:14px;padding:10px 5px;border-style:solid;border-width:1px;overflow:hidden;word-break:normal;border-color:black;text-align:center;vertical-align:top\">4.96</td><td style=\"font-family:Arial, sans-serif;font-size:14px;padding:10px 5px;border-style:solid;border-width:1px;overflow:hidden;word-break:normal;border-color:black;text-align:center;vertical-align:top\">7.64</td></tr><tr><td style=\"font-family:Arial, sans-serif;font-size:14px;padding:10px 5px;border-style:solid;border-width:1px;overflow:hidden;word-break:normal;border-color:black;text-align:center\">4.13</td><td style=\"font-family:Arial, sans-serif;font-size:14px;padding:10px 5px;border-style:solid;border-width:1px;overflow:hidden;word-break:normal;border-color:black;text-align:center\">6.52</td><td style=\"font-family:Arial, sans-serif;font-size:14px;padding:10px 5px;border-style:solid;border-width:1px;overflow:hidden;word-break:normal;border-color:black;text-align:center;vertical-align:top\">|</td><td style=\"font-family:Arial, sans-serif;font-size:14px;padding:10px 5px;border-style:solid;border-width:1px;overflow:hidden;word-break:normal;border-color:black;text-align:center;vertical-align:top\">1.64</td><td style=\"font-family:Arial, sans-serif;font-size:14px;padding:10px 5px;border-style:solid;border-width:1px;overflow:hidden;word-break:normal;border-color:black;text-align:center;vertical-align:top\">3.09</td></tr><tr><td style=\"font-family:Arial, sans-serif;font-size:14px;padding:10px 5px;border-style:solid;border-width:1px;overflow:hidden;word-break:normal;border-color:black;text-align:center\">1.75</td><td style=\"font-family:Arial, sans-serif;font-size:14px;padding:10px 5px;border-style:solid;border-width:1px;overflow:hidden;word-break:normal;border-color:black;text-align:center\">2.46</td><td style=\"font-family:Arial, sans-serif;font-size:14px;padding:10px 5px;border-style:solid;border-width:1px;overflow:hidden;word-break:normal;border-color:black;text-align:center;vertical-align:top\">|</td><td style=\"font-family:Arial, sans-serif;font-size:14px;padding:10px 5px;border-style:solid;border-width:1px;overflow:hidden;word-break:normal;border-color:black;text-align:center;vertical-align:top\">3.23</td><td style=\"font-family:Arial, sans-serif;font-size:14px;padding:10px 5px;border-style:solid;border-width:1px;overflow:hidden;word-break:normal;border-color:black;text-align:center;vertical-align:top\">3.89</td></tr><tr><td style=\"font-family:Arial, sans-serif;font-size:14px;padding:10px 5px;border-style:solid;border-width:1px;overflow:hidden;word-break:normal;border-color:black;text-align:center\">2.95</td><td style=\"font-family:Arial, sans-serif;font-size:14px;padding:10px 5px;border-style:solid;border-width:1px;overflow:hidden;word-break:normal;border-color:black;text-align:center\">5.02</td><td style=\"font-family:Arial, sans-serif;font-size:14px;padding:10px 5px;border-style:solid;border-width:1px;overflow:hidden;word-break:normal;border-color:black;text-align:center;vertical-align:top\">|</td><td style=\"font-family:Arial, sans-serif;font-size:14px;padding:10px 5px;border-style:solid;border-width:1px;overflow:hidden;word-break:normal;border-color:black;text-align:center;vertical-align:top\">3.07</td><td style=\"font-family:Arial, sans-serif;font-size:14px;padding:10px 5px;border-style:solid;border-width:1px;overflow:hidden;word-break:normal;border-color:black;text-align:center;vertical-align:top\">5.49</td></tr><tr><td style=\"font-family:Arial, sans-serif;font-size:14px;padding:10px 5px;border-style:solid;border-width:1px;overflow:hidden;word-break:normal;border-color:black;text-align:center\">1.30</td><td style=\"font-family:Arial, sans-serif;font-size:14px;padding:10px 5px;border-style:solid;border-width:1px;overflow:hidden;word-break:normal;border-color:black;text-align:center\">1.73</td><td style=\"font-family:Arial, sans-serif;font-size:14px;padding:10px 5px;border-style:solid;border-width:1px;overflow:hidden;word-break:normal;border-color:black;text-align:center;vertical-align:top\">|</td><td style=\"font-family:Arial, sans-serif;font-size:14px;padding:10px 5px;border-style:solid;border-width:1px;overflow:hidden;word-break:normal;border-color:black;text-align:center;vertical-align:top\">4.26</td><td style=\"font-family:Arial, sans-serif;font-size:14px;padding:10px 5px;border-style:solid;border-width:1px;overflow:hidden;word-break:normal;border-color:black;text-align:center;vertical-align:top\">6.82</td></tr><tr><td style=\"font-family:Arial, sans-serif;font-size:14px;padding:10px 5px;border-style:solid;border-width:1px;overflow:hidden;word-break:normal;border-color:black;text-align:center\">0.76</td><td style=\"font-family:Arial, sans-serif;font-size:14px;padding:10px 5px;border-style:solid;border-width:1px;overflow:hidden;word-break:normal;border-color:black;text-align:center\">1.14</td><td style=\"font-family:Arial, sans-serif;font-size:14px;padding:10px 5px;border-style:solid;border-width:1px;overflow:hidden;word-break:normal;border-color:black;text-align:center;vertical-align:top\">|</td><td style=\"font-family:Arial, sans-serif;font-size:14px;padding:10px 5px;border-style:solid;border-width:1px;overflow:hidden;word-break:normal;border-color:black;text-align:center;vertical-align:top\">4.40</td><td style=\"font-family:Arial, sans-serif;font-size:14px;padding:10px 5px;border-style:solid;border-width:1px;overflow:hidden;word-break:normal;border-color:black;text-align:center;vertical-align:top\">5.53</td></tr><tr><td style=\"font-family:Arial, sans-serif;font-size:14px;padding:10px 5px;border-style:solid;border-width:1px;overflow:hidden;word-break:normal;border-color:black;text-align:center;vertical-align:top\">2.52</td><td style=\"font-family:Arial, sans-serif;font-size:14px;padding:10px 5px;border-style:solid;border-width:1px;overflow:hidden;word-break:normal;border-color:black;text-align:center;vertical-align:top\">4.56</td><td style=\"font-family:Arial, sans-serif;font-size:14px;padding:10px 5px;border-style:solid;border-width:1px;overflow:hidden;word-break:normal;border-color:black;text-align:center;vertical-align:top\">|<br></td><td style=\"font-family:Arial, sans-serif;font-size:14px;padding:10px 5px;border-style:solid;border-width:1px;overflow:hidden;word-break:normal;border-color:black;text-align:center;vertical-align:top\">2.42</td><td style=\"font-family:Arial, sans-serif;font-size:14px;padding:10px 5px;border-style:solid;border-width:1px;overflow:hidden;word-break:normal;border-color:black;text-align:center;vertical-align:top\">4.30</td></tr><tr><td style=\"font-family:Arial, sans-serif;font-size:14px;padding:10px 5px;border-style:solid;border-width:1px;overflow:hidden;word-break:normal;border-color:black;text-align:center;vertical-align:top\">1.66</td><td style=\"font-family:Arial, sans-serif;font-size:14px;padding:10px 5px;border-style:solid;border-width:1px;overflow:hidden;word-break:normal;border-color:black;text-align:center;vertical-align:top\">2.90</td><td style=\"font-family:Arial, sans-serif;font-size:14px;padding:10px 5px;border-style:solid;border-width:1px;overflow:hidden;word-break:normal;border-color:black;text-align:center;vertical-align:top\">|</td><td style=\"font-family:Arial, sans-serif;font-size:14px;padding:10px 5px;border-style:solid;border-width:1px;overflow:hidden;word-break:normal;border-color:black;text-align:center;vertical-align:top\">2.96</td><td style=\"font-family:Arial, sans-serif;font-size:14px;padding:10px 5px;border-style:solid;border-width:1px;overflow:hidden;word-break:normal;border-color:black;text-align:center;vertical-align:top\">3.55</td></tr><tr><td style=\"font-family:Arial, sans-serif;font-size:14px;padding:10px 5px;border-style:solid;border-width:1px;overflow:hidden;word-break:normal;border-color:black;text-align:center;vertical-align:top\">1.84</td><td style=\"font-family:Arial, sans-serif;font-size:14px;padding:10px 5px;border-style:solid;border-width:1px;overflow:hidden;word-break:normal;border-color:black;text-align:center;vertical-align:top\">3.19</td><td style=\"font-family:Arial, sans-serif;font-size:14px;padding:10px 5px;border-style:solid;border-width:1px;overflow:hidden;word-break:normal;border-color:black;text-align:center;vertical-align:top\"></td><td style=\"font-family:Arial, sans-serif;font-size:14px;padding:10px 5px;border-style:solid;border-width:1px;overflow:hidden;word-break:normal;border-color:black;text-align:center;vertical-align:top\"></td><td style=\"font-family:Arial, sans-serif;font-size:14px;padding:10px 5px;border-style:solid;border-width:1px;overflow:hidden;word-break:normal;border-color:black;text-align:center;vertical-align:top\"></td></tr></table>\n",
    "\n",
    "\n",
    "\n",
    "</center>"
   ]
  },
  {
   "cell_type": "code",
   "execution_count": null,
   "metadata": {
    "slideshow": {
     "slide_type": "skip"
    }
   },
   "outputs": [],
   "source": [
    "registros=[[1.22, 2.62],[3.19, 4.26],[3.48,8.35],[4.11,7.00],[5.10,6.52],[3.09,5.49],[3.39,3.51],[4.96,7.64],[4.13,6.52],[1.64,3.09],[1.75,2.46],[3.23,3.89],[2.95,5.02],[3.07,5.49],[1.30,1.73],[4.26,6.82],[0.76,1.14],[4.40,5.53],[2.52,4.56],[2.42,4.30],[1.66,2.90],[2.96,3.55],[1.84,3.19],[0,0]]\n",
    "registros=pd.DataFrame(registros,columns=['Distancia','Tiempo']).sort_values('Distancia').reset_index(drop=True)"
   ]
  },
  {
   "cell_type": "code",
   "execution_count": null,
   "metadata": {
    "slideshow": {
     "slide_type": "slide"
    }
   },
   "outputs": [],
   "source": [
    "trace = go.Scatter(\n",
    "    x = registros.Distancia[1:],\n",
    "    y = registros.Tiempo[1:],\n",
    "    mode = 'markers',\n",
    "    name = 'Registros'\n",
    "    \n",
    ")\n",
    "point = go.Scatter(\n",
    "    x = [0],\n",
    "    y = [0],\n",
    "    mode = 'markers',\n",
    "    name = 'Origen'\n",
    ")\n",
    "layout = go.Layout(\n",
    "    title='Registros Distancia Vs. Tiempo',\n",
    "    font=dict(family='Courier New, monospace', size=18, color='#7f7f7f'),\n",
    "    xaxis=dict(\n",
    "        title='Distancia',\n",
    "        titlefont=dict(\n",
    "            family='Courier New, monospace',\n",
    "            size=18,\n",
    "            color='#7f7f7f'\n",
    "        )\n",
    "    ),\n",
    "    yaxis=dict(\n",
    "        title='Tiempo',\n",
    "        titlefont=dict(\n",
    "            family='Courier New, monospace',\n",
    "            size=18,\n",
    "            color='#7f7f7f'\n",
    "        )\n",
    "    )\n",
    ")\n",
    "\n",
    "\n",
    "data = [trace,point]\n",
    "fig = go.Figure(data=data, layout=layout)\n",
    "# Plot and embed in ipython notebook!\n",
    "iplot(fig)"
   ]
  },
  {
   "cell_type": "markdown",
   "metadata": {
    "slideshow": {
     "slide_type": "slide"
    }
   },
   "source": [
    "## Hipótesis\n",
    "<ul>\n",
    "    <li>La velocidad de una ambulancia es independiente del lugar de la ciudad por donde transite.</li>\n",
    "   \n",
    "</ul>"
   ]
  },
  {
   "cell_type": "markdown",
   "metadata": {
    "slideshow": {
     "slide_type": "slide"
    }
   },
   "source": [
    "\n",
    "<h2> Aproximación de la función tiempo de llegada de una ambulancia$:= t(x)$</h2>\n",
    "<ul>\n",
    "    <li> Interpolación splines cúbicos </li>\n",
    "    <li> Ajuste Lineal</li>\n",
    "    <li> Ajuste Cuadratico</li>\n",
    "    <li> Ajuste Cúbico</li>\n",
    "</ul>\n",
    "\n"
   ]
  },
  {
   "cell_type": "code",
   "execution_count": null,
   "metadata": {},
   "outputs": [],
   "source": [
    "xs = np.sort(list(np.arange(0, max(registros.Distancia), 0.1))+list(registros.Distancia))\n",
    "for i in xs:\n",
    "    registros=registros.append({'Distancia':i},ignore_index=True)\n",
    "registros=registros.drop_duplicates('Distancia').sort_values('Distancia').reset_index(drop=True)\n",
    "originales=registros[['Distancia','Tiempo']].dropna()"
   ]
  },
  {
   "cell_type": "code",
   "execution_count": null,
   "metadata": {},
   "outputs": [],
   "source": [
    "cubic_spline=scipy.interpolate.CubicSpline(originales.Distancia, originales.Tiempo, axis=0, bc_type='not-a-knot', extrapolate=None)"
   ]
  },
  {
   "cell_type": "code",
   "execution_count": null,
   "metadata": {},
   "outputs": [],
   "source": [
    "registros['Spline']=cubic_spline(registros.Distancia)\n",
    "registros['Spline_error']=abs(registros.Tiempo-registros.Spline)"
   ]
  },
  {
   "cell_type": "code",
   "execution_count": null,
   "metadata": {},
   "outputs": [],
   "source": [
    "def polinomio_ajuste(x,y,grado):\n",
    "    \n",
    "    columns=grado#+1\n",
    "    filas = len(x)\n",
    "    \n",
    "    matriz=np.ones((filas,columns))\n",
    "    \n",
    "    for i in range(columns):\n",
    "        matriz[:,i]=np.power(x,i+1)\n",
    "        #matriz[:,i]=np.power(x,i) para considerar coeficiente independiente\n",
    "        #matriz[:,i]=np.power(x,i+1) para no considerar coeficiente independiente\n",
    "    \n",
    "    y=np.array(y).reshape((len(y),1))\n",
    "    \n",
    "    coef=np.dot(np.dot(np.linalg.inv(np.dot(matriz.T,matriz)),matriz.T),y)\n",
    "    \n",
    "    y_approx=np.dot(matriz,coef)\n",
    "    \n",
    "    return coef, y_approx\n",
    "\n",
    "def evaluar_polinomio(x,coeficientes):\n",
    "    return np.dot(np.array([np.power(x,len(coeficientes)-i) for i in range(len(coeficientes))]).T,coeficientes).flatten()\n",
    "    #len(coeficientes)-1-i para considerar coeficiente independiente\n",
    "    #len(coeficientes)-i para no considerar coeficiente independiente\n",
    "    "
   ]
  },
  {
   "cell_type": "code",
   "execution_count": null,
   "metadata": {},
   "outputs": [],
   "source": [
    "polinomios=[]\n",
    "for i,j in zip([1,2,3],['Lineal','Cuadratico','Cúbico']):\n",
    "    coef,t_approx=polinomio_ajuste(originales.Distancia,originales.Tiempo,i)\n",
    "    polinomios.append(coef)\n",
    "    registros[j]=evaluar_polinomio(registros.Distancia,coef)\n",
    "    registros[j+'_error']=abs(registros[j]-registros.Tiempo)  \n"
   ]
  },
  {
   "cell_type": "code",
   "execution_count": null,
   "metadata": {
    "slideshow": {
     "slide_type": "slide"
    }
   },
   "outputs": [],
   "source": [
    "aproximaciones=[]\n",
    "for i in ['Spline','Lineal','Cuadratico','Cúbico']:\n",
    "    grafica=go.Scatter(\n",
    "        x = registros.Distancia,\n",
    "        y = registros[i],\n",
    "\n",
    "        mode = 'lines',\n",
    "        name = i,\n",
    "        error_y=dict(\n",
    "                type='data',\n",
    "                array=registros[i+'_error'],\n",
    "                visible=True\n",
    "                )\n",
    "\n",
    "    )\n",
    "    \n",
    "    \n",
    "    aproximaciones.append(grafica)\n",
    "data = data+aproximaciones\n",
    "fig = go.Figure(data=data, layout=layout)\n",
    "# Plot and embed in ipython notebook!\n",
    "iplot(fig)"
   ]
  },
  {
   "cell_type": "code",
   "execution_count": null,
   "metadata": {
    "slideshow": {
     "slide_type": "slide"
    }
   },
   "outputs": [],
   "source": [
    "Errores=pd.DataFrame(registros[['Spline_error','Lineal_error','Cuadratico_error','Cúbico_error']].sum(),columns=['Error Estimación'])\n",
    "\n",
    "trace = go.Bar(\n",
    "    x=Errores['Error Estimación']+0.01,\n",
    "    y=list(Errores.index),\n",
    "    orientation='h',\n",
    "    text=list(Errores.index),\n",
    "    textposition = 'auto',\n",
    "    marker=dict(\n",
    "        color='rgb(158,202,225)',\n",
    "        line=dict(\n",
    "            color='rgb(8,48,107)',\n",
    "            width=1),\n",
    "    ),   \n",
    ")\n",
    "layout = go.Layout(\n",
    "    title='Errores de Estimación',\n",
    "    font=dict(family='Courier New, monospace', size=18, color='#7f7f7f'),\n",
    "    xaxis=dict(\n",
    "        title='Error',\n",
    "        titlefont=dict(\n",
    "            family='Courier New, monospace',\n",
    "            size=18,\n",
    "            color='#7f7f7f'\n",
    "            )\n",
    "        ),\n",
    "    yaxis=dict(\n",
    "        autorange=True,\n",
    "        showgrid=False,\n",
    "        zeroline=False,\n",
    "        showline=False,\n",
    "        ticks='',\n",
    "        showticklabels=False\n",
    "    )\n",
    "    )\n",
    "\n",
    "\n",
    "\n",
    "data = [trace]\n",
    "fig = go.Figure(data=data, layout=layout)\n",
    "# Plot and embed in ipython notebook!\n",
    "iplot(fig)"
   ]
  },
  {
   "cell_type": "code",
   "execution_count": null,
   "metadata": {},
   "outputs": [],
   "source": [
    "soluciones={}\n",
    "grado_funcion=Errores.reset_index(drop=True)[1:].idxmin().values[0]\n",
    "distance_order=2 #np.inf "
   ]
  },
  {
   "cell_type": "markdown",
   "metadata": {
    "slideshow": {
     "slide_type": "slide"
    }
   },
   "source": [
    "<h2> Escogemos la función lineal por que... </h2>\n",
    "<ul>\n",
    "<li>Es la que menor error de estimación posee</li>\n",
    "<li>Es capaz de generalizar a puntos que no se tomaron en cuenta</li>\n",
    "</ul>\n",
    "<center>$$t(x)=1.538x$$</center>"
   ]
  },
  {
   "cell_type": "code",
   "execution_count": null,
   "metadata": {},
   "outputs": [],
   "source": [
    "def t(emergencia,hospital,coeficientes=polinomios[grado_funcion-1],distance_order=2):\n",
    "    return evaluar_polinomio(norma(np.array(emergencia)-np.array(hospital),distance_order),coeficientes)"
   ]
  },
  {
   "cell_type": "code",
   "execution_count": null,
   "metadata": {},
   "outputs": [],
   "source": [
    "frequency = np.array([[ 0,2,3,1,1,1], \n",
    "                      [10,6,3,1,3,1],\n",
    "                      [ 8,5,2,1,0,0],\n",
    "                      [ 5,3,3,0,1,2],\n",
    "                      [ 2,1,1,2,3,2],\n",
    "                      [ 3,0,1,4,2,1]])"
   ]
  },
  {
   "cell_type": "code",
   "execution_count": null,
   "metadata": {},
   "outputs": [],
   "source": [
    "def discreto(hospital,frequency=frequency,coeficientes=polinomios[grado_funcion-1],distance_order=2):\n",
    "    return sum(t(means,hospital,coeficientes,distance_order)*frequency.flatten())means = []\n",
    "for row in range(6):\n",
    "    for col in range(6):\n",
    "        means.append([col+0.5,  row+0.5])\n",
    "means=np.array(means)\n"
   ]
  },
  {
   "cell_type": "markdown",
   "metadata": {
    "slideshow": {
     "slide_type": "slide"
    }
   },
   "source": [
    "## Frecuencia Llamadas en la ciudad"
   ]
  },
  {
   "cell_type": "code",
   "execution_count": null,
   "metadata": {
    "slideshow": {
     "slide_type": "slide"
    }
   },
   "outputs": [],
   "source": [
    "X,Y=np.meshgrid(np.arange(7),np.arange(7))\n",
    "\n",
    "fig, (ax1, ax2) = plt.subplots(1, 2,figsize=(20,8))\n",
    "ax1.imshow(plt.imread(\"img.png\"))\n",
    "ax1.axis('off')\n",
    "im=ax2.pcolormesh(X,Y,frequency,cmap='viridis',edgecolors='face',alpha=0.5,snap=True)\n",
    "ax2.scatter(means[:,0],means[:,1],c='r')\n",
    "fig.colorbar(im, ax=ax2)\n",
    "plt.show()"
   ]
  },
  {
   "cell_type": "markdown",
   "metadata": {
    "slideshow": {
     "slide_type": "slide"
    }
   },
   "source": [
    "# Modelo Discreto\n",
    "\n",
    "## Hipótesis\n",
    "<ul>\n",
    "    <li>Que  la  ambulancia  llegue  al  centro  de  la  cuadricula  donde  se  produjo  una  emergencia\n",
    "implica que dicha emergencia ha sido atendida.</li>\n",
    "    <li>El hospital puede ser ubicado en cualquier parte de la ciudad.</li>\n",
    "    <li>Las llamadas de emergencia son independientes entre si</li>\n",
    "    <li>Todas las llamadas de una cuadrícula suceden en el centro de esta</li>\n",
    "</ul>"
   ]
  },
  {
   "cell_type": "markdown",
   "metadata": {
    "slideshow": {
     "slide_type": "slide"
    }
   },
   "source": [
    "### Sean $f(x_i,y_i)$ la función que retorna la frecuencia de llamadas del punto central de una región y $d((x_1,y_1),(x_2,y_2))$ la función que retorna la distancia entre dos puntos, la función a optimizar se define como:\n",
    "$$ H((x_{0},y_{0}))=\\sum_{i=1}^{36}f(x_i,y_i) t\\left( d((x_0,y_0),(x_i,y_i)) \\right)$$\n",
    "### Donde $(x_{0},y_{0})$ es la posición del hospital"
   ]
  },
  {
   "cell_type": "markdown",
   "metadata": {
    "slideshow": {
     "slide_type": "slide"
    }
   },
   "source": [
    "<center><h2>Metodos de optimización basados en Simplex</h2></center>\n",
    "\n",
    "![SegmentLocal](Nelder_Mead2.gif \"segment\")"
   ]
  },
  {
   "cell_type": "code",
   "execution_count": null,
   "metadata": {},
   "outputs": [],
   "source": [
    "step=0.025\n",
    "X, Y = np.meshgrid(np.arange(0, 6., step), np.arange(0, 6., step))\n",
    "points=[i for i in zip(X.flatten(),Y.flatten())]"
   ]
  },
  {
   "cell_type": "code",
   "execution_count": null,
   "metadata": {},
   "outputs": [],
   "source": [
    "def c1(x):\n",
    "    return x[0]\n",
    "def c2(x):\n",
    "    return x[1]\n",
    "def c3(x):\n",
    "    return 6- x[0]\n",
    "def c4(x):\n",
    "    return 6- x[1]\n",
    "cons = [{'type':'ineq', 'fun': c1},\n",
    "        {'type':'ineq', 'fun': c2},\n",
    "        {'type':'ineq', 'fun': c3},\n",
    "        {'type':'ineq', 'fun': c4}]\n"
   ]
  },
  {
   "cell_type": "code",
   "execution_count": null,
   "metadata": {},
   "outputs": [],
   "source": [
    "metodos=['Nelder-Mead','Powell','COBYLA']\n",
    "def discreto(hospital,frequency=frequency,coeficientes=polinomios[grado_funcion-1],distance_order=2):\n",
    "    return sum(t(means,hospital,coeficientes,distance_order)*frequency.flatten())"
   ]
  },
  {
   "cell_type": "code",
   "execution_count": null,
   "metadata": {
    "slideshow": {
     "slide_type": "skip"
    }
   },
   "outputs": [],
   "source": [
    "time_metodos=[]\n",
    "for i in metodos:\n",
    "    a=%timeit -o minimize(discreto, [2,2], method = i,args=(frequency,polinomios[grado_funcion-1],distance_order),tol=1e-10)\n",
    "    time_metodos.append([a.average,a.stdev])    \n",
    "time_metodos=np.array(time_metodos)"
   ]
  },
  {
   "cell_type": "code",
   "execution_count": null,
   "metadata": {
    "scrolled": false,
    "slideshow": {
     "slide_type": "slide"
    }
   },
   "outputs": [],
   "source": [
    "data = [\n",
    "    go.Bar( x=time_metodos[:,0],  y=metodos, \n",
    "               orientation='h' ,\n",
    "               text=metodos,\n",
    "               textposition = 'auto',\n",
    "               marker=dict(\n",
    "                   color='rgb(158,202,225)',\n",
    "                   line=dict(\n",
    "                       color='rgb(8,48,107)',\n",
    "                       width=1),\n",
    "                ),\n",
    "          )\n",
    "]\n",
    "layout = go.Layout(\n",
    "    title='Tiempos Convergencia Métodos Optimización',\n",
    "    font=dict(family='Courier New, monospace', size=18, color='#7f7f7f'),\n",
    "    xaxis=dict(\n",
    "        title='Tiempo (segundos)',\n",
    "        titlefont=dict(\n",
    "            family='Courier New, monospace',\n",
    "            size=18,\n",
    "            color='#7f7f7f'\n",
    "        )\n",
    "    ),\n",
    "    yaxis=dict(\n",
    "        autorange=True,\n",
    "        showgrid=False,\n",
    "        zeroline=False,\n",
    "        showline=False,\n",
    "        ticks='',\n",
    "        showticklabels=False\n",
    "    )\n",
    ")\n",
    "fig = go.Figure(data=data, layout=layout)\n",
    "iplot(fig)\n",
    "\n"
   ]
  },
  {
   "cell_type": "code",
   "execution_count": null,
   "metadata": {
    "slideshow": {
     "slide_type": "slide"
    }
   },
   "outputs": [],
   "source": [
    "sol_d=minimize(discreto, [2,2], method = 'COBYLA',args=(frequency,polinomios[grado_funcion-1],distance_order),tol=1e-10)\n",
    "soluciones['Discreto']=sol_d.x\n",
    "print(\"Salida Optimización\")\n",
    "print(sol_d)"
   ]
  },
  {
   "cell_type": "code",
   "execution_count": null,
   "metadata": {
    "slideshow": {
     "slide_type": "slide"
    }
   },
   "outputs": [],
   "source": [
    "h_disc=[discreto(i,frequency=frequency,coeficientes=polinomios[grado_funcion-1],distance_order=2) for i in points]\n",
    "fig = tools.make_subplots(rows=1, cols=2,\n",
    "                          specs=[[{'is_3d': False}, {'is_3d': True}]],print_grid=False)\n",
    "\n",
    "# adding surfaces to subplots.\n",
    "fig.append_trace(dict(type='contour', x=X[0], y=X[0], z=np.array(h_disc).reshape(X.shape), colorscale='Viridis',\n",
    "                      showscale=True), 1, 1)\n",
    "\n",
    "fig.append_trace(dict(type='scatter', x=[sol_d.x[0]], y=[sol_d.x[1]],mode = 'markers'), 1, 1)\n",
    "\n",
    "fig.append_trace(dict(type='surface', x=X[0], y=X[0], z=np.array(h_disc).reshape(X.shape), colorscale='Viridis',\n",
    "                       showscale=False), 1, 2)\n",
    "fig['layout'].update(title='Evaluación H(x,y)',font=dict(family='Courier New, monospace', size=18, color='#7f7f7f'))\n",
    "iplot(fig)\n"
   ]
  },
  {
   "cell_type": "markdown",
   "metadata": {
    "slideshow": {
     "slide_type": "slide"
    }
   },
   "source": [
    "# Modelo Continuo\n",
    "\n",
    "## Hipótesis\n",
    "<ul>\n",
    "    <li>Las llamadas pueden surgir de cualquier punto de la ciudad y la ambulancia debe llegar al punto para atender la emergencia</li>\n",
    "    <li>En cada casilla las llamadas se comportan siguiendo una distribución normal con media en el centro de la casilla. </li>\n",
    "    <li>En las casillas donde la frecuenia de llamadas era cero aún tienen la posibilidad de ocurrencia de llamada.</li>\n",
    "</ul>"
   ]
  },
  {
   "cell_type": "markdown",
   "metadata": {
    "slideshow": {
     "slide_type": "slide"
    }
   },
   "source": [
    "Para un punto $p_c$ con componentes $(x_c, y_c)$ en la $k$-cuadricula la función de densidad de probabilidad (Relacionada entonces con la frecuencia) es:\n",
    "\n",
    "\\begin{equation}\n",
    "    \\phi_c(p|\\mu_k, \\Sigma_k) = \\frac{exp(-\\frac{1}{2}((p-\\mu_k)^T\\Sigma_k^{-1}(p-\\mu_k)))}{\\sqrt{(2\\pi)^2 |\\Sigma_k|}}\n",
    "\\end{equation}\n",
    "\n",
    "donde\n",
    "\n",
    "$${\\mu }={\\begin{pmatrix}\\mu _{x}\\\\\\mu _{y}\\end{pmatrix}},\\quad {\\boldsymbol  \\Sigma }={\\begin{pmatrix}\\sigma _{x}^{2}& 0\\\\0&\\sigma _{y}^{2}\\end{pmatrix}}.\n",
    "$$\n",
    "En nuestro modelo, asumimos que el $95\\%$ de los datos se encuentran en la casilla, es decir $2\\sigma = 0.5km$. "
   ]
  },
  {
   "cell_type": "markdown",
   "metadata": {
    "slideshow": {
     "slide_type": "slide"
    }
   },
   "source": [
    "\n",
    "\n",
    "Para extrapolar el método de esta casilla a las 36 casillas en el mapa, usamos las mezclas gaussianas. Donde la función de densidad de probabilidad para cada punto de la región $p$ con coordenadas $(x,y)$ esta dado por:\n",
    "\n",
    "\\begin{equation}\n",
    "    \\phi(x) =  \\sum_{k=1}^{36} \\pi_k \\phi_k(p | \\mu_k, \\Sigma_k)    \n",
    "\\end{equation}\n",
    "\n",
    "Los parametros $\\pi_k$ son llamados coeficientes de mixtura, donde se sabe que:\n",
    "\n",
    "\n",
    "$$ \\sum_{k=1}^{36} \\pi_k =1 ,\\quad 0 \\leq \\pi_k \\leq 1.\n",
    "$$\n",
    "\n"
   ]
  },
  {
   "cell_type": "markdown",
   "metadata": {
    "slideshow": {
     "slide_type": "slide"
    }
   },
   "source": [
    "Si normalizamos los valores de las frecuencias de llamadas por cuadricula, obtenemos los valores de $\\pi_k$, es decir.\n",
    "\n",
    "$$\n",
    "\\pi_k = \\frac{f(x_i, y_y) }{ \\sum_{k=1}^{36} f(x_i, y_y) }\n",
    "$$\n",
    "\n",
    "Donde la nueva función a optimizar seria:\n",
    "\n",
    "$$\\underset{(x_0, y_0) \\in A}{\\text{minimizar}} \\iint{\\phi(x,y) t\\left( d((x_0,y_0),(x,y)) \\right) dA}$$"
   ]
  },
  {
   "cell_type": "code",
   "execution_count": null,
   "metadata": {},
   "outputs": [],
   "source": [
    "pi=frequency.flatten()/frequency.sum()\n",
    "def fdp(x):\n",
    "    return 8/np.pi*sum(pi*np.exp(-8*np.sum(np.power(means-x,2),axis=1)))"
   ]
  },
  {
   "cell_type": "code",
   "execution_count": null,
   "metadata": {},
   "outputs": [],
   "source": [
    "step=0.025\n",
    "X, Y = np.meshgrid(np.arange(0, 6., step), np.arange(0, 6., step))\n",
    "points=[i for i in zip(X.flatten(),Y.flatten())]"
   ]
  },
  {
   "cell_type": "code",
   "execution_count": null,
   "metadata": {},
   "outputs": [],
   "source": [
    "fdp_values=np.array([fdp(i) for i in points])"
   ]
  },
  {
   "cell_type": "code",
   "execution_count": null,
   "metadata": {},
   "outputs": [],
   "source": [
    "# Centro de masa\n",
    "cm=sum([i*j for i,j in zip(fdp_values,np.array(points))])/sum(fdp_values)\n",
    "soluciones['Centro Masa']=cm"
   ]
  },
  {
   "cell_type": "code",
   "execution_count": null,
   "metadata": {
    "slideshow": {
     "slide_type": "slide"
    }
   },
   "outputs": [],
   "source": [
    "Z=fdp_values.reshape(X.shape)\n",
    "fig = tools.make_subplots(rows=1, cols=2,\n",
    "                          specs=[[{'is_3d': False}, {'is_3d': True}]],print_grid=False)\n",
    "\n",
    "# adding surfaces to subplots.\n",
    "fig.append_trace(dict(type='contour', x=X[0], y=X[0], z=Z, colorscale='Viridis',\n",
    "                      showscale=True), 1, 1)\n",
    "\n",
    "fig.append_trace(dict(type='surface', x=X[0], y=X[0], z=Z, colorscale='Viridis',\n",
    "                       showscale=False), 1, 2)\n",
    "fig['layout'].update(title='Densidad Probabilidad Llamadas y Curvas de nivel',font=dict(family='Courier New, monospace', size=18, color='#7f7f7f'))\n",
    "\n",
    "iplot(fig)"
   ]
  },
  {
   "cell_type": "code",
   "execution_count": null,
   "metadata": {},
   "outputs": [],
   "source": [
    "def parameters(hospital=[3,3],coeficientes=polinomios[grado_funcion-1],distance_order=distance_order):\n",
    "\n",
    "    def integrando(y,x,hospital=hospital,coeficientes=coeficientes,distance_order=distance_order):\n",
    "        return (fdp([x,y])*t([[x,y]],hospital,coeficientes=coeficientes,distance_order=distance_order))[0]\n",
    "    \n",
    "    return integrando\n",
    "def integrar(x,coeficientes=polinomios[grado_funcion-1],distance_order=2):\n",
    "    return integrate.dblquad(parameters(hospital=x,coeficientes=coeficientes,distance_order=distance_order), 0, 6, 0, 6)[0]"
   ]
  },
  {
   "cell_type": "code",
   "execution_count": null,
   "metadata": {
    "scrolled": true,
    "slideshow": {
     "slide_type": "slide"
    }
   },
   "outputs": [],
   "source": [
    "sol=minimize(integrar, [2,2],method = 'COBYLA',args=(polinomios[grado_funcion-1],distance_order),constraints=cons,tol=1e-10)\n",
    "soluciones['Continuo']=sol.x\n",
    "sol"
   ]
  },
  {
   "cell_type": "code",
   "execution_count": null,
   "metadata": {
    "slideshow": {
     "slide_type": "skip"
    }
   },
   "outputs": [],
   "source": [
    "\"\"\"\n",
    "step=0.1\n",
    "X, Y = np.meshgrid(np.arange(0, 6., step), np.arange(0, 6., step))\n",
    "points=[i for i in zip(X.flatten(),Y.flatten())]\n",
    "\n",
    "h_con=[integrar(i,coeficientes=polinomios[grado_funcion-1],distance_order=distance_order) for i in points]\n",
    "fig = tools.make_subplots(rows=1, cols=2,\n",
    "                          specs=[[{'is_3d': False}, {'is_3d': True}]],print_grid=False)\n",
    "\n",
    "# adding surfaces to subplots.\n",
    "fig.append_trace(dict(type='contour', x=X[0], y=X[0], z=np.array(h_con).reshape(X.shape), colorscale='Viridis',\n",
    "                      showscale=True), 1, 1)\n",
    "\n",
    "fig.append_trace(dict(type='scatter', x=[sol.x[0]], y=[sol.x[1]],mode = 'markers'), 1, 1)\n",
    "\n",
    "fig.append_trace(dict(type='surface', x=X[0], y=X[0], z=np.array(h_con).reshape(X.shape), colorscale='Viridis',\n",
    "                       showscale=False), 1, 2)\n",
    "fig['layout'].update(title='Evaluación H(x,y) continuo')\n",
    "iplot(fig)\n",
    "\"\"\""
   ]
  },
  {
   "cell_type": "code",
   "execution_count": 4,
   "metadata": {
    "slideshow": {
     "slide_type": "slide"
    }
   },
   "outputs": [
    {
     "ename": "NameError",
     "evalue": "name 'fdp_values' is not defined",
     "output_type": "error",
     "traceback": [
      "\u001b[0;31m---------------------------------------------------------------------------\u001b[0m",
      "\u001b[0;31mNameError\u001b[0m                                 Traceback (most recent call last)",
      "\u001b[0;32m<ipython-input-4-dd00ac96226d>\u001b[0m in \u001b[0;36m<module>\u001b[0;34m\u001b[0m\n\u001b[0;32m----> 1\u001b[0;31m \u001b[0mZ\u001b[0m\u001b[0;34m=\u001b[0m\u001b[0mfdp_values\u001b[0m\u001b[0;34m.\u001b[0m\u001b[0mreshape\u001b[0m\u001b[0;34m(\u001b[0m\u001b[0mX\u001b[0m\u001b[0;34m.\u001b[0m\u001b[0mshape\u001b[0m\u001b[0;34m)\u001b[0m\u001b[0;34m\u001b[0m\u001b[0;34m\u001b[0m\u001b[0m\n\u001b[0m\u001b[1;32m      2\u001b[0m \u001b[0;34m\u001b[0m\u001b[0m\n\u001b[1;32m      3\u001b[0m \u001b[0;34m\u001b[0m\u001b[0m\n\u001b[1;32m      4\u001b[0m trace0 = go.Contour(\n\u001b[1;32m      5\u001b[0m      \u001b[0mx\u001b[0m\u001b[0;34m=\u001b[0m\u001b[0mX\u001b[0m\u001b[0;34m[\u001b[0m\u001b[0;36m0\u001b[0m\u001b[0;34m]\u001b[0m\u001b[0;34m,\u001b[0m\u001b[0;34m\u001b[0m\u001b[0;34m\u001b[0m\u001b[0m\n",
      "\u001b[0;31mNameError\u001b[0m: name 'fdp_values' is not defined"
     ]
    }
   ],
   "source": [
    "Z=fdp_values.reshape(X.shape)\n",
    "\n",
    "\n",
    "trace0 = go.Contour(\n",
    "     x=X[0],\n",
    "     y=X[0],\n",
    "     z=Z,\n",
    "     colorscale='Viridis',\n",
    "     showscale=True\n",
    ")\n",
    "\n",
    "trace1 = go.Scatter(\n",
    "      x=np.array(list(soluciones.values()))[:,0], \n",
    "      y=np.array(list(soluciones.values()))[:,1],\n",
    "      mode=\"markers+text\",\n",
    "      text=list(soluciones.keys()),\n",
    "      textposition=[\"bottom left\",\"middle center\",\"middle right\"],\n",
    "      marker = dict(\n",
    "                            \n",
    "                    size = 10,\n",
    "                    color = np.random.randn(500),\n",
    "                    #colorscale='Viridis',\n",
    "                    #showscale=True,  \n",
    "                    line = dict(\n",
    "                        width = 2,\n",
    "                    )\n",
    "))\n",
    "\n",
    "data = [trace0,trace1]\n",
    "layout = go.Layout(\n",
    "    title='Soluciones Encontradas',\n",
    "    font=dict(family='Courier New, monospace', size=18, color='#7f7f7f'),\n",
    "    xaxis=dict(\n",
    "        title='X',\n",
    "        titlefont=dict(\n",
    "            family='Courier New, monospace',\n",
    "            size=18,\n",
    "            color='#7f7f7f'\n",
    "        )\n",
    "    ),\n",
    "    yaxis=dict(\n",
    "        title='Y',\n",
    "        titlefont=dict(\n",
    "            family='Courier New, monospace',\n",
    "            size=18,\n",
    "            color='#7f7f7f'\n",
    "        )\n",
    "    )\n",
    ")\n",
    "\n",
    "\n",
    "# Plot and embed in ipython notebook!\n",
    "fig = go.Figure(data=data, layout=layout)\n",
    "iplot(fig)\n",
    "\n"
   ]
  },
  {
   "cell_type": "code",
   "execution_count": null,
   "metadata": {},
   "outputs": [],
   "source": [
    "step=0.025\n",
    "X, Y = np.meshgrid(np.arange(0, 6., step), np.arange(0, 6., step))\n",
    "points=[i for i in zip(X.flatten(),Y.flatten())]"
   ]
  },
  {
   "cell_type": "code",
   "execution_count": null,
   "metadata": {},
   "outputs": [],
   "source": [
    "n_puntos_prueba=10000\n",
    "puntos_prueba_uniforme=[points[np.random.choice(len(points))] for i in range(n_puntos_prueba)]\n",
    "index=np.random.choice(np.arange(len(points)), n_puntos_prueba, p=fdp_values/sum(fdp_values))\n",
    "puntos_prueba_fdp=[points[i] for i in index]"
   ]
  },
  {
   "cell_type": "code",
   "execution_count": null,
   "metadata": {},
   "outputs": [],
   "source": [
    "uniforme=np.array([])\n",
    "means_uniforme={}\n",
    "for h in soluciones:\n",
    "    arreglo=np.array(t(puntos_prueba_uniforme,soluciones[h],coeficientes=polinomios[grado_funcion-1],distance_order=distance_order))\n",
    "    means_uniforme[h]=np.mean(arreglo)\n",
    "    uniforme=np.concatenate((uniforme,arreglo),axis=0)\n",
    "fdp_sample=np.array([])\n",
    "means_fdp={}\n",
    "for h in soluciones:\n",
    "    arreglo=np.array(t(puntos_prueba_fdp,soluciones[h],coeficientes=polinomios[grado_funcion-1],distance_order=distance_order))\n",
    "    means_fdp[h]=np.mean(arreglo)\n",
    "    fdp_sample=np.concatenate((fdp_sample,arreglo),axis=0)"
   ]
  },
  {
   "cell_type": "code",
   "execution_count": null,
   "metadata": {},
   "outputs": [],
   "source": [
    "annotations=[\n",
    "        dict(\n",
    "            x=-0.2+j*1,\n",
    "            y=means_uniforme[i],\n",
    "            xref='x',\n",
    "            yref='y',\n",
    "            text=format(means_uniforme[i], '.4f'),\n",
    "            showarrow=True,\n",
    "            #arrowhead=7,\n",
    "            ax=-60,\n",
    "            ay=0\n",
    "        ) for i,j in zip(means_uniforme,np.arange(3)) \n",
    "    ]\n",
    "annotations+=[\n",
    "        dict(\n",
    "            x=0.2+j*1,\n",
    "            y=means_fdp[i],\n",
    "            xref='x',\n",
    "            yref='y',\n",
    "            text=format(means_fdp[i], '.4f'),\n",
    "            showarrow=True,\n",
    "            #arrowhead=7,\n",
    "            ax=60,\n",
    "            ay=0\n",
    "        ) for i,j in zip(means_fdp,np.arange(3)) \n",
    "    ]"
   ]
  },
  {
   "cell_type": "code",
   "execution_count": null,
   "metadata": {
    "slideshow": {
     "slide_type": "slide"
    }
   },
   "outputs": [],
   "source": [
    "fig = {\n",
    "    \"data\": [\n",
    "        {\n",
    "            \"type\": 'violin',\n",
    "            \"x\": np.array([[i]*10000 for i in list(soluciones.keys())]).flatten(),\n",
    "            \"y\": uniforme,\n",
    "            \"legendgroup\": 'Muestreo Uniforme',\n",
    "            \"scalegroup\": 'Muestreo Uniforme',\n",
    "            \"name\": 'Muestreo Uniforme',\n",
    "            \"box\": {\n",
    "                \"visible\": False\n",
    "            },\n",
    "            \"meanline\": {\n",
    "                \"visible\": True\n",
    "            },\n",
    "            \"line\": {\n",
    "                \"color\": 'blue'\n",
    "            }\n",
    "        },\n",
    "        {\n",
    "            \"type\": 'violin',\n",
    "            \"x\": np.array([[i]*10000 for i in list(soluciones.keys())]).flatten(),\n",
    "            \"y\": fdp_sample,\n",
    "            \"legendgroup\": 'Muestreo fdp',\n",
    "            \"scalegroup\": 'Muestreo fdp',\n",
    "            \"name\": 'Muestreo fdp',\n",
    "            \"box\": {\n",
    "                \"visible\": False\n",
    "            },\n",
    "            \"meanline\": {\n",
    "                \"visible\": True\n",
    "            },\n",
    "            \"line\": {\n",
    "                \"color\": 'red'\n",
    "            }\n",
    "        }\n",
    "    ],\n",
    "    \"layout\" : {\n",
    "        \"yaxis\": {\n",
    "            \"zeroline\": False,\n",
    "        },\n",
    "        \"violinmode\": \"group\",\n",
    "        \"title\":'Evaluación rendimiento modelos',\n",
    "        \"font\":dict(family='Courier New, monospace', size=18, color='#7f7f7f'),\n",
    "        \"annotations\":annotations\n",
    "        \n",
    "               \n",
    "    }\n",
    "}\n",
    "\n",
    "iplot(fig)"
   ]
  },
  {
   "cell_type": "markdown",
   "metadata": {
    "slideshow": {
     "slide_type": "slide"
    }
   },
   "source": [
    "\n",
    "<h2>Ventajas y Desventajas</h2>\n",
    "<ul>\n",
    "<li>Una ventaja del modelo discreto es que resuelve el problema con un costo computacional menor que el continuo con resultados similares.</li> \n",
    "<li>Con este modelo es posible aumentar la tasa de exito en la atención de las llamadas.</li>\n",
    "    \n",
    "    \n",
    "<li>Es posible mejorar la solución teniedo datos reales.</li>\n",
    "<li>Hace falta considerar factores como trafico en la ciudad, estado de las vias, reglas de transito y distribución de las vias entre otros factores que afecta el tiempo de llegada de las ambulancias.</li>\n",
    "</ul>\n"
   ]
  },
  {
   "cell_type": "code",
   "execution_count": null,
   "metadata": {
    "slideshow": {
     "slide_type": "skip"
    }
   },
   "outputs": [],
   "source": [
    "distance_order=np.inf\n",
    "s=minimize(discreto, [2,2], method = 'COBYLA',args=(frequency,polinomios[grado_funcion-1],distance_order),tol=1e-10)\n",
    "h_disc=[discreto(i,frequency=frequency,coeficientes=polinomios[grado_funcion-1],distance_order=distance_order) for i in points]\n",
    "fig = tools.make_subplots(rows=1, cols=2,\n",
    "                          specs=[[{'is_3d': False}, {'is_3d': True}]],print_grid=False)\n",
    "\n",
    "# adding surfaces to subplots.\n",
    "fig.append_trace(dict(type='contour', x=X[0], y=X[0], z=np.array(h_disc).reshape(X.shape), colorscale='Viridis',\n",
    "                      showscale=True), 1, 1)\n",
    "\n",
    "fig.append_trace(dict(type='scatter', x=[s.x[0]], y=[s.x[1]],mode = 'markers'), 1, 1)\n",
    "\n",
    "fig.append_trace(dict(type='surface', x=X[0], y=X[0], z=np.array(h_disc).reshape(X.shape), colorscale='Viridis',\n",
    "                       showscale=False), 1, 2)\n",
    "fig['layout'].update(title='Evaluación H(x,y)',font=dict(family='Courier New, monospace', size=18, color='#7f7f7f'))\n",
    "iplot(fig)"
   ]
  },
  {
   "cell_type": "code",
   "execution_count": null,
   "metadata": {},
   "outputs": [],
   "source": []
  }
 ],
 "metadata": {
  "celltoolbar": "Slideshow",
  "kernelspec": {
   "display_name": "Python 3",
   "language": "python",
   "name": "python3"
  },
  "language_info": {
   "codemirror_mode": {
    "name": "ipython",
    "version": 3
   },
   "file_extension": ".py",
   "mimetype": "text/x-python",
   "name": "python",
   "nbconvert_exporter": "python",
   "pygments_lexer": "ipython3",
   "version": "3.7.3"
  }
 },
 "nbformat": 4,
 "nbformat_minor": 2
}
